{
 "cells": [
  {
   "cell_type": "code",
   "execution_count": null,
   "id": "312fda80-86a6-4c24-9120-fb93b52aa17a",
   "metadata": {},
   "outputs": [],
   "source": [
    "from autotuna import AutoTuna\n",
    "\n",
    "\n",
    "# required parameters:\n",
    "train_filename = \"./data_samples/single_column_regression.csv\"\n",
    "output = \"single-regression-xgb-study-1\"\n",
    "\n",
    "# optional parameters\n",
    "algo = 'xgb'\n",
    "test_filename = None\n",
    "task = None\n",
    "idx = \"id\"\n",
    "targets = [\"target\"]\n",
    "features = None\n",
    "categorical_features = None\n",
    "use_gpu = False\n",
    "num_folds = 5\n",
    "seed = 42\n",
    "num_trials = 100\n",
    "time_limit = 360\n",
    "fast = False\n",
    "\n",
    "# Now its time to train the model!\n",
    "atuna = AutoTuna(\n",
    "    algo=algo,\n",
    "    train_filename=train_filename,\n",
    "    output=output,\n",
    "    test_filename=test_filename,\n",
    "    task=task,\n",
    "    idx=idx,\n",
    "    targets=targets,\n",
    "    features=features,\n",
    "    categorical_features=categorical_features,\n",
    "    use_gpu=use_gpu,\n",
    "    num_folds=num_folds,\n",
    "    seed=seed,\n",
    "    num_trials=num_trials,\n",
    "    time_limit=time_limit,\n",
    "    fast=fast,\n",
    ")\n",
    "atuna.train()\n"
   ]
  }
 ],
 "metadata": {
  "kernelspec": {
   "display_name": "Python 3 (ipykernel)",
   "language": "python",
   "name": "python3"
  },
  "language_info": {
   "codemirror_mode": {
    "name": "ipython",
    "version": 3
   },
   "file_extension": ".py",
   "mimetype": "text/x-python",
   "name": "python",
   "nbconvert_exporter": "python",
   "pygments_lexer": "ipython3",
   "version": "3.9.7"
  }
 },
 "nbformat": 4,
 "nbformat_minor": 5
}
