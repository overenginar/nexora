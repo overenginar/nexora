{
 "cells": [
  {
   "cell_type": "code",
   "execution_count": null,
   "id": "7cb08807-b9ae-4f8e-ab59-18f82b4ed18c",
   "metadata": {},
   "outputs": [],
   "source": [
    "from nexora import AutoTuna\n",
    "\n",
    "\n",
    "payload = dict(\n",
    "    train_filename=\"./data_samples/multi_column_regression.csv\",\n",
    "    output=\"multi-regression-lgbm-study-1\",\n",
    "    algo='lgbm',\n",
    "    test_filename=None,\n",
    "    task=None,\n",
    "    idx=\"id\",\n",
    "    targets=[\"target1\", \"target2\", \"target3\"],\n",
    "    features=None,\n",
    "    categorical_features=None,\n",
    "    use_gpu=False,\n",
    "    num_folds=5,\n",
    "    seed=42,\n",
    "    num_trials=100,\n",
    "    time_limit=360,\n",
    "    fast=False\n",
    ")\n",
    "\n",
    "atuna = AutoTuna(\n",
    "    **payload\n",
    ")\n",
    "atuna.train()\n"
   ]
  }
 ],
 "metadata": {
  "kernelspec": {
   "display_name": "Python 3 (ipykernel)",
   "language": "python",
   "name": "python3"
  },
  "language_info": {
   "codemirror_mode": {
    "name": "ipython",
    "version": 3
   },
   "file_extension": ".py",
   "mimetype": "text/x-python",
   "name": "python",
   "nbconvert_exporter": "python",
   "pygments_lexer": "ipython3",
   "version": "3.9.7"
  }
 },
 "nbformat": 4,
 "nbformat_minor": 5
}
