{
 "cells": [
  {
   "cell_type": "code",
   "execution_count": null,
   "id": "ebe2414c",
   "metadata": {},
   "outputs": [],
   "source": [
    "from nexora import AutoTuna\n",
    "\n",
    "payload = dict(\n",
    "    train_filename=\"./data_samples/binary_classification.csv\",\n",
    "    output=\"binary-lgbm-study-1\",\n",
    "    algo='lgbm',\n",
    "    test_filename=None,\n",
    "    task=None,\n",
    "    idx=None,\n",
    "    targets=[\"income\"],\n",
    "    features=None,\n",
    "    categorical_features=None,\n",
    "    use_gpu=False,\n",
    "    num_folds=5,\n",
    "    seed=42,\n",
    "    num_trials=100,\n",
    "    time_limit=360,\n",
    "    fast=False,\n",
    "    fs=1\n",
    ")\n",
    "\n",
    "atuna = AutoTuna(\n",
    "    **payload\n",
    ")\n",
    "atuna.train()\n"
   ]
  },
  {
   "cell_type": "code",
   "execution_count": null,
   "id": "560a0180",
   "metadata": {},
   "outputs": [],
   "source": []
  }
 ],
 "metadata": {
  "kernelspec": {
   "display_name": "Python 3 (ipykernel)",
   "language": "python",
   "name": "python3"
  },
  "language_info": {
   "codemirror_mode": {
    "name": "ipython",
    "version": 3
   },
   "file_extension": ".py",
   "mimetype": "text/x-python",
   "name": "python",
   "nbconvert_exporter": "python",
   "pygments_lexer": "ipython3",
   "version": "3.9.7"
  }
 },
 "nbformat": 4,
 "nbformat_minor": 5
}
